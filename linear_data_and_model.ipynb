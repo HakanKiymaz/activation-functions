{
 "cells": [
  {
   "cell_type": "code",
   "execution_count": 1,
   "id": "8c04e044",
   "metadata": {},
   "outputs": [],
   "source": [
    "import torch\n",
    "import matplotlib.pyplot as plt\n",
    "import matplotlib\n",
    "import numpy as np\n",
    "import random\n",
    "import math"
   ]
  },
  {
   "cell_type": "code",
   "execution_count": null,
   "id": "e9bf89bc",
   "metadata": {},
   "outputs": [],
   "source": [
    "# create index list and shuffle it to shuffle data points \n",
    "# shuffling helps to update parameters without skew.\n",
    "def shuffle(x,y,classes):\n",
    "    indexes = [i for i in range(len(x))]\n",
    "    random.shuffle(indexes)\n",
    "    x = [x[i] for i in indexes]\n",
    "    y = [y[i] for i in indexes]\n",
    "    classes = [classes[i] for i in indexes]\n",
    "    return x, y, classes"
   ]
  },
  {
   "cell_type": "code",
   "execution_count": null,
   "id": "e028704b",
   "metadata": {},
   "outputs": [],
   "source": [
    "def linearly_separable_data():\n",
    "    x_data = []\n",
    "    y_data = []\n",
    "    marker_color = []\n",
    "\n",
    "    x_red, y_red = np.meshgrid([1, 2, 3], [1, 2, 3], indexing='ij')\n",
    "    x_data.extend(x_red.flatten())\n",
    "    y_data.extend(y_red.flatten())\n",
    "    marker_color += ['red']*x_red.size\n",
    "\n",
    "    x_blue, y_blue = np.meshgrid([-1, -2, -3],[-1, -2, -3], indexing='ij')\n",
    "    x_data.extend(x_blue.flatten())\n",
    "    y_data.extend(y_blue.flatten())\n",
    "    marker_color += ['blue']*x_blue.size\n",
    "    return x_data, y_data, marker_color"
   ]
  },
  {
   "cell_type": "code",
   "execution_count": null,
   "id": "2727a070",
   "metadata": {},
   "outputs": [],
   "source": [
    "def linear_classifier(seed_=None, x_data=None, y_data=None, classes_=None):\n",
    "    if not x_data or not y_data or not classes_:\n",
    "        x_data, y_data, classes_ = linearly_separable_data()\n",
    "    x_, y_ = x_data, y_data\n",
    "\n",
    "    #red class is 1, blue class is 0\n",
    "    \n",
    "    # for reproducability, define seed\n",
    "    if not seed_:\n",
    "        seed_ = np.random.randint(1024)\n",
    "        print(seed_)\n",
    "    np.random.seed(seed_) #seed_ 456 gives accuracy 0.94\n",
    "    weights = np.random.rand(2)\n",
    "    lr = 0.001\n",
    "    iter_ = 10\n",
    "    max_ = 1\n",
    "    correct = 0\n",
    "    total = 0\n",
    "    classes_ = [1 if cl==\"red\" else 0 for cl in classes_]\n",
    "    for _ in range(iter_):\n",
    "        x_, y_, classes_ = shuffle(x_, y_, classes_)    \n",
    "        for i in range(len(classes_)):\n",
    "            total += 1\n",
    "            target = classes_[i]\n",
    "            weighted_sum = math.e**(weights[0]*x_[i] + weights[1]*y_[i])\n",
    "            if weighted_sum>max_:\n",
    "                max_ = weighted_sum\n",
    "            #normalize weighted_sum\n",
    "            normalized = weighted_sum/max_\n",
    "            if normalized >= 0.5:\n",
    "                pred = 1\n",
    "            else:\n",
    "                pred = 0\n",
    "            weights[0] += (0.5-normalized)*lr\n",
    "            weights[1] += (0.5-normalized)*lr\n",
    "            if target == pred:\n",
    "                correct += 1\n",
    "    accuracy = correct/total\n",
    "    \n",
    "    #return the original point to plot\n",
    "    return accuracy,weights,x_data,y_data"
   ]
  },
  {
   "cell_type": "code",
   "execution_count": null,
   "id": "055e2656",
   "metadata": {},
   "outputs": [],
   "source": [
    "accuracy,weights,x_data,y_data = linear_classifier(seed_=456)"
   ]
  },
  {
   "cell_type": "code",
   "execution_count": null,
   "id": "b108c817",
   "metadata": {},
   "outputs": [],
   "source": [
    "weights"
   ]
  },
  {
   "cell_type": "code",
   "execution_count": null,
   "id": "04a82517",
   "metadata": {},
   "outputs": [],
   "source": [
    "print(\"accuracy \",accuracy)"
   ]
  },
  {
   "cell_type": "code",
   "execution_count": null,
   "id": "6de3dcda",
   "metadata": {},
   "outputs": [],
   "source": [
    "plt.scatter(0, 0, color='black')\n",
    "plt.scatter(x_data[:9], y_data[:9], color='r')\n",
    "plt.scatter(x_data[9:], y_data[9:], color='b')\n",
    "x_values = np.linspace(-4,4,100)\n",
    "y_values = -weights[0]*x_values + weights[1]\n",
    "plt.plot(x_values, y_values)\n",
    "plt.grid(color='gray', linestyle='dashed')"
   ]
  },
  {
   "cell_type": "markdown",
   "id": "7b9ace19",
   "metadata": {},
   "source": [
    "<b>Let's create two cirles, which we cannot classify with a linear line."
   ]
  },
  {
   "cell_type": "code",
   "execution_count": 2,
   "id": "2482379b",
   "metadata": {},
   "outputs": [],
   "source": [
    "N = 101 # number of data points in each circle\n",
    "t = np.linspace(0,1,N)\n",
    "r_list = [0.25,1.0] # radius list for circles\n",
    "\n",
    "\n",
    "x_list = []\n",
    "y_list = []\n",
    "for i,r in enumerate(r_list):\n",
    "    x = r*np.sin(2*np.pi*t) + np.random.randn(N)*0#0.03\n",
    "    y = r*np.cos(2*np.pi*t) + np.random.randn(N)*0#0.03\n",
    "    \n",
    "    x_list.append(x)\n",
    "    y_list.append(y)\n",
    "\n",
    "# consolidate data\n",
    "x_arr = np.concatenate(x_list)\n",
    "y_arr = np.concatenate(y_list)\n",
    "data_arr = np.stack([x_arr,y_arr],axis=0)\n",
    "label_arr = np.concatenate([np.zeros(N,dtype=np.uint8),np.ones(N,dtype=np.uint8)])\n",
    "\n",
    "# initiate all with the color of 1st quadrant\n",
    "marker_color_arr = np.ones(2*N,dtype=np.uint8)\n",
    "\n",
    "# 2nd quadrant\n",
    "indices = (data_arr[0] < 0) & (data_arr[1] >= 0)\n",
    "marker_color_arr[indices] = 2\n",
    "\n",
    "# 3rd quadrant\n",
    "indices = (data_arr[0] < 0) & (data_arr[1] < 0)\n",
    "marker_color_arr[indices] = 3\n",
    "\n",
    "# 4th quadrant\n",
    "indices = (data_arr[0] >= 0) & (data_arr[1] < 0)\n",
    "marker_color_arr[indices] = 4"
   ]
  },
  {
   "cell_type": "code",
   "execution_count": 3,
   "id": "1efbb342",
   "metadata": {},
   "outputs": [
    {
     "data": {
      "text/plain": [
       "2"
      ]
     },
     "execution_count": 3,
     "metadata": {},
     "output_type": "execute_result"
    }
   ],
   "source": [
    "unique_label_arr = np.unique(label_arr)\n",
    "num_labels = len(unique_label_arr)\n",
    "num_labels"
   ]
  },
  {
   "cell_type": "code",
   "execution_count": 4,
   "id": "7d6ab0d6",
   "metadata": {},
   "outputs": [],
   "source": [
    "label_0_indices = label_arr==unique_label_arr[0] \n",
    "label_1_indices = label_arr==unique_label_arr[1] "
   ]
  },
  {
   "cell_type": "code",
   "execution_count": 5,
   "id": "509e4489",
   "metadata": {},
   "outputs": [],
   "source": [
    "data_arr_0 = data_arr[:,label_0_indices]\n",
    "data_arr_1 = data_arr[:,label_1_indices]"
   ]
  },
  {
   "cell_type": "code",
   "execution_count": 6,
   "id": "3d67ff96",
   "metadata": {},
   "outputs": [],
   "source": [
    "label_arr_0 = label_arr[label_0_indices]\n",
    "label_arr_1 = label_arr[label_1_indices]"
   ]
  },
  {
   "cell_type": "code",
   "execution_count": 7,
   "id": "01ec4a8a",
   "metadata": {
    "scrolled": true
   },
   "outputs": [
    {
     "data": {
      "image/png": "[encoded data removed]",
      "text/plain": [
       "<Figure size 432x288 with 1 Axes>"
      ]
     },
     "metadata": {
      "needs_background": "light"
     },
     "output_type": "display_data"
    }
   ],
   "source": [
    "plt.scatter(0, 0, color='black')\n",
    "plt.plot(data_arr_0[0], data_arr_0[1], color='r',)\n",
    "plt.plot(data_arr_1[0], data_arr_1[1], color='b',)\n",
    "plt.grid(color='gray', linestyle='dashed')"
   ]
  },
  {
   "cell_type": "code",
   "execution_count": null,
   "id": "87823d06",
   "metadata": {},
   "outputs": [],
   "source": [
    "x_2 = []\n",
    "x_2.extend(data_arr[0].flatten())"
   ]
  },
  {
   "cell_type": "code",
   "execution_count": null,
   "id": "16fb7a30",
   "metadata": {},
   "outputs": [],
   "source": [
    "y_2 = []\n",
    "y_2.extend(data_arr[1].flatten())"
   ]
  },
  {
   "cell_type": "code",
   "execution_count": null,
   "id": "49b8908c",
   "metadata": {},
   "outputs": [],
   "source": [
    "classes_2 = []\n",
    "classes_2.extend(label_arr.flatten())"
   ]
  },
  {
   "cell_type": "code",
   "execution_count": null,
   "id": "4d8c343d",
   "metadata": {},
   "outputs": [],
   "source": [
    "accuracy,weights,x_,y_  = linear_classifier(x_data=x_2, y_data=y_2, classes_=classes_2)"
   ]
  },
  {
   "cell_type": "code",
   "execution_count": null,
   "id": "560e57c1",
   "metadata": {},
   "outputs": [],
   "source": [
    "accuracy"
   ]
  },
  {
   "cell_type": "code",
   "execution_count": null,
   "id": "1b57bd1e",
   "metadata": {},
   "outputs": [],
   "source": [
    "weights"
   ]
  },
  {
   "cell_type": "code",
   "execution_count": null,
   "id": "3eb2b0e4",
   "metadata": {},
   "outputs": [],
   "source": [
    "plt.scatter(0, 0, color='black')\n",
    "plt.plot(data_arr_0[0], data_arr_0[1], color='r',)\n",
    "plt.plot(data_arr_1[0], data_arr_1[1], color='b',)\n",
    "x_values = np.linspace(-2,2,100)\n",
    "y_values = -weights[0]*x_values +weights[1]\n",
    "plt.plot(x_values, y_values)\n",
    "plt.grid(color='gray', linestyle='dashed')"
   ]
  },
  {
   "cell_type": "code",
   "execution_count": null,
   "id": "3a4c108e",
   "metadata": {},
   "outputs": [],
   "source": [
    "def sigmoid(x):\n",
    "    return 1/(1+np.exp(-x))\n",
    "\n",
    "def tanh(x):\n",
    "    return (np.exp(x) - np.exp(-x))/(np.exp(x) + np.exp(-x))\n",
    "\n",
    "def relu(x):\n",
    "    return np.maximum(0,x)"
   ]
  },
  {
   "cell_type": "code",
   "execution_count": null,
   "id": "2a39fe87",
   "metadata": {},
   "outputs": [],
   "source": [
    "import torch\n",
    "import torch.nn as nn\n",
    "import torch.nn.functional as F\n",
    "import torch.optim as optim\n",
    "from torchvision import datasets, transforms\n",
    "import torch.utils.data\n",
    "\n",
    "torch.manual_seed(23)\n",
    "nonlinearity = 'relu'\n",
    "\n",
    "class SimpleNN(nn.Module):\n",
    "    def __init__(self, num_features=1):\n",
    "        super().__init__()\n",
    "        \n",
    "        self.fc1 = nn.Linear(2, num_features, bias=True)\n",
    "        self.fc2 = nn.Linear(num_features, 2, bias=True)\n",
    "        \n",
    "    def forward(self, x):\n",
    "        s1 = self.fc1(x)\n",
    "        if nonlinearity == 'relu':\n",
    "            z1 = F.relu(s1)\n",
    "        elif nonlinearity == 'sigmoid':    \n",
    "            z1 = torch.sigmoid(s1)\n",
    "        elif nonlinearity == 'tannh': \n",
    "            z1 = torch.tanh(s1)\n",
    "        else:\n",
    "            z1 = s1\n",
    "        y = self.fc2(z1) # y is the transformed data with nonlinearity function\n",
    "        return s1,z1,y"
   ]
  },
  {
   "cell_type": "code",
   "execution_count": null,
   "id": "65073f8c",
   "metadata": {},
   "outputs": [],
   "source": [
    "model = SimpleNN(num_features=3)"
   ]
  },
  {
   "cell_type": "code",
   "execution_count": null,
   "id": "5f00e49f",
   "metadata": {},
   "outputs": [],
   "source": [
    "np.matmul(np.random.rand(3,2),np.array((data_arr_0[0][0],data_arr_0[1][0])))"
   ]
  },
  {
   "cell_type": "code",
   "execution_count": null,
   "id": "4af956b2",
   "metadata": {},
   "outputs": [],
   "source": [
    "np.array((data_arr_0[0][0],data_arr_0[1][0]))"
   ]
  },
  {
   "cell_type": "code",
   "execution_count": null,
   "id": "b7d217c9",
   "metadata": {},
   "outputs": [],
   "source": [
    "temp_sample[0]"
   ]
  },
  {
   "cell_type": "code",
   "execution_count": null,
   "id": "4aa02835",
   "metadata": {},
   "outputs": [],
   "source": [
    "torch.matmul(model.fc1.weight,temp_sample[0])"
   ]
  },
  {
   "cell_type": "code",
   "execution_count": null,
   "id": "7cc2d268",
   "metadata": {},
   "outputs": [],
   "source": [
    "torch.matmul(model.fc1.weight,temp_sample)"
   ]
  },
  {
   "cell_type": "code",
   "execution_count": null,
   "id": "714073bf",
   "metadata": {},
   "outputs": [],
   "source": [
    "model.fc1.weight #.detach().numpy()"
   ]
  },
  {
   "cell_type": "code",
   "execution_count": null,
   "id": "7d65f9c0",
   "metadata": {},
   "outputs": [],
   "source": [
    "# convert numpy arrays to tensors\n",
    "samples = torch.as_tensor(data_arr.transpose(), dtype=torch.float32)\n",
    "labels = torch.as_tensor(label_arr, dtype=torch.long)\n",
    "\n",
    "dataset_train = torch.utils.data.TensorDataset(samples,labels)\n",
    "dataloader_train = torch.utils.data.DataLoader(dataset_train, batch_size=4, shuffle=True, num_workers=0)"
   ]
  },
  {
   "cell_type": "code",
   "execution_count": null,
   "id": "8ce27c03",
   "metadata": {},
   "outputs": [],
   "source": [
    "temp_sample"
   ]
  },
  {
   "cell_type": "code",
   "execution_count": null,
   "id": "7d29de46",
   "metadata": {},
   "outputs": [],
   "source": [
    "for i, (temp_sample, temp_label) in enumerate(dataloader_train):\n",
    "    print(temp_sample)"
   ]
  },
  {
   "cell_type": "code",
   "execution_count": null,
   "id": "cb49f498",
   "metadata": {},
   "outputs": [],
   "source": [
    "device = torch.device('cuda') if torch.cuda.is_available() else torch.device('cpu')\n",
    "\n",
    "# init the model\n",
    "model = SimpleNN(num_features=3)\n",
    "\n",
    "model.to(device)\n",
    "\n",
    "# define criterion/loss function\n",
    "criterion = nn.CrossEntropyLoss()\n",
    "\n",
    "# construct an optimizer\n",
    "params = [p for p in model.parameters() if p.requires_grad]\n",
    "optimizer = torch.optim.Adam(params, lr=3e-3, weight_decay=1e-5)\n",
    "\n",
    "num_epochs = 100\n",
    "train_loss_list = []\n",
    "train_acc_list = []\n",
    "for epoch in range(num_epochs):\n",
    "    \n",
    "    # set the model into training mode\n",
    "    model.train()\n",
    "    \n",
    "    num_predictions = 0\n",
    "    running_loss = 0.0\n",
    "    running_num_correct_preds = 0\n",
    "    \n",
    "    for i, (temp_sample, temp_label) in enumerate(dataloader_train):\n",
    "        \n",
    "        # push the mini-batch of data into device\n",
    "        # if you have a GPU, the data will be pushed into GPU\n",
    "        temp_sample, temp_label = temp_sample.to(device), temp_label.to(device)\n",
    "        \n",
    "        \n",
    "        # 1. feed-forward pass\n",
    "        _,_,temp_output = model(temp_sample)\n",
    "        \n",
    "        # 2. calculate the loss\n",
    "        loss = criterion(temp_output, temp_label)\n",
    "        \n",
    "        # 3. clear the gradients\n",
    "        optimizer.zero_grad()\n",
    "        \n",
    "        # 4. backward pass (back-propagation)\n",
    "        # to compute gradients of parameters\n",
    "        loss.backward()\n",
    "        \n",
    "        # 5. update the parameters\n",
    "        optimizer.step()\n",
    "        \n",
    "        \n",
    "        # get the predicted labels\n",
    "        _, predicted_label = torch.max(temp_output, 1)\n",
    "        \n",
    "        num_correct_preds = (predicted_label == temp_label).sum().item()\n",
    "        \n",
    "        num_samples = temp_label.size(0)\n",
    "        num_predictions += num_samples\n",
    "        \n",
    "        running_loss += loss.item() * num_samples\n",
    "        running_num_correct_preds += num_correct_preds\n",
    "        \n",
    "    train_loss = running_loss / num_predictions\n",
    "    train_acc = running_num_correct_preds / num_predictions\n",
    "    \n",
    "    \n",
    "    train_loss_list.append(train_loss)\n",
    "    train_acc_list.append(train_acc)\n",
    "\n",
    "# plot the loss and accuracy throughout training\n",
    "fig,ax = plt.subplots(1,2,figsize=(6,3))\n",
    "ax[0].plot(np.arange(num_epochs),train_loss_list)\n",
    "ax[0].set_xlabel('epoch')\n",
    "ax[0].set_ylabel('loss')\n",
    "ax[0].set_axisbelow(True)\n",
    "ax[0].yaxis.grid(True,which='major',linestyle='-',color='lightgrey',alpha=0.5)\n",
    "\n",
    "ax[1].plot(np.arange(num_epochs),train_acc_list)\n",
    "ax[1].set_xlabel('epoch')\n",
    "ax[1].set_ylabel('acc')\n",
    "ax[1].set_axisbelow(True)\n",
    "ax[1].yaxis.grid(True,which='major',linestyle='-',color='lightgrey',alpha=0.5)\n",
    "\n",
    "fig.subplots_adjust(left=0.14, bottom=0.29, right=0.99, top=0.98, wspace=0.50 ,hspace=0.20 )"
   ]
  },
  {
   "cell_type": "code",
   "execution_count": null,
   "id": "fee89c60",
   "metadata": {},
   "outputs": [],
   "source": [
    "# in eval mode, model weights will not be updated, and gradient will not be computed\n",
    "model.eval()\n",
    "samples = torch.as_tensor(data_arr.transpose(), dtype=torch.float32)\n",
    "with torch.no_grad():\n",
    "    s1,z1,y = model(samples.to(device))\n",
    "    \n",
    "transformed_data = y.cpu().detach().numpy()\n",
    "fig,ax = plt.subplots(figsize=(3,3))\n",
    "plot_data(ax,transformed_data.transpose(),label_arr,marker_color_arr)"
   ]
  },
  {
   "cell_type": "code",
   "execution_count": null,
   "id": "f99d1f5b",
   "metadata": {},
   "outputs": [],
   "source": []
  },
  {
   "cell_type": "code",
   "execution_count": null,
   "id": "f88f11b0",
   "metadata": {},
   "outputs": [],
   "source": []
  },
  {
   "cell_type": "code",
   "execution_count": null,
   "id": "7599e4b3",
   "metadata": {},
   "outputs": [],
   "source": [
    "cmap_list = ['Reds','Blues']\n",
    "\n",
    "def plot_data(ax,data_arr,label_arr,marker_color_arr):\n",
    "    unique_label_arr = np.unique(label_arr)\n",
    "    num_labels = len(unique_label_arr)\n",
    "   \n",
    "    ax.set_aspect('equal')\n",
    "    \n",
    "    for i in range(num_labels):\n",
    "        print(i)\n",
    "        temp_cmap = matplotlib.cm.get_cmap(cmap_list[i])\n",
    "        \n",
    "        temp_indices = label_arr==unique_label_arr[i]\n",
    "        temp_data_arr = data_arr[:,temp_indices]\n",
    "        temp_label_arr = label_arr[temp_indices]\n",
    "        temp_marker_color_arr = marker_color_arr[temp_indices]\n",
    "\n",
    "        ax.scatter(temp_data_arr[0],temp_data_arr[1],s=5,c=temp_marker_color_arr,cmap=temp_cmap,vmin=0)\n",
    "        \n",
    "    ax.set_axisbelow(True)\n",
    "    ax.grid(color='gray', linestyle='dashed')"
   ]
  },
  {
   "cell_type": "code",
   "execution_count": null,
   "id": "29a7b803",
   "metadata": {},
   "outputs": [],
   "source": []
  },
  {
   "cell_type": "code",
   "execution_count": null,
   "id": "ab834305",
   "metadata": {},
   "outputs": [],
   "source": []
  },
  {
   "cell_type": "code",
   "execution_count": null,
   "id": "3f3f9e08",
   "metadata": {},
   "outputs": [],
   "source": []
  },
  {
   "cell_type": "code",
   "execution_count": null,
   "id": "a6538314",
   "metadata": {},
   "outputs": [],
   "source": []
  }
 ],
 "metadata": {
  "kernelspec": {
   "display_name": "Python 3 (ipykernel)",
   "language": "python",
   "name": "python3"
  },
  "language_info": {
   "codemirror_mode": {
    "name": "ipython",
    "version": 3
   },
   "file_extension": ".py",
   "mimetype": "text/x-python",
   "name": "python",
   "nbconvert_exporter": "python",
   "pygments_lexer": "ipython3",
   "version": "3.9.12"
  }
 },
 "nbformat": 4,
 "nbformat_minor": 5
}
